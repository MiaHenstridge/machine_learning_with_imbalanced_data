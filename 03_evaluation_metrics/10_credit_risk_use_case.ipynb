{
 "cells": [
  {
   "cell_type": "markdown",
   "metadata": {},
   "source": [
    "# Credit risk\n",
    "Machine Learning with Imbalanced Data - Course\n",
    "\n",
    "In this notebook, we'll create 3 models to assess credit risk by using:\n",
    "\n",
    "* Logistic regression\n",
    "* Random forests\n",
    "* XGBoost\n",
    "\n",
    "We'll find the best hyperparameters using cross-validation and randomized search.\n",
    "\n",
    "Finally, we'll compare their performance with the various metrics we discussed in this section of the course."
   ]
  },
  {
   "cell_type": "markdown",
   "metadata": {},
   "source": []
  }
 ],
 "metadata": {
  "language_info": {
   "name": "python"
  }
 },
 "nbformat": 4,
 "nbformat_minor": 2
}
