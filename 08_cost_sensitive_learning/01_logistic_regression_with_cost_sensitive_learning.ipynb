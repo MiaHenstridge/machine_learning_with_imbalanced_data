{
 "cells": [
  {
   "cell_type": "code",
   "execution_count": 1,
   "id": "f5e1f552",
   "metadata": {},
   "outputs": [],
   "source": [
    "import numpy as np\n",
    "import pandas as pd\n",
    "\n",
    "from sklearn.linear_model import LogisticRegression\n",
    "from sklearn.metrics import roc_auc_score\n",
    "from sklearn.model_selection import train_test_split"
   ]
  },
  {
   "cell_type": "code",
   "execution_count": 3,
   "id": "f4c8d509",
   "metadata": {},
   "outputs": [],
   "source": [
    "# load data\n",
    "data = pd.read_csv('../datasets/kdd2004.csv').sample(10000)"
   ]
  },
  {
   "cell_type": "code",
   "execution_count": 4,
   "id": "d4b804c3",
   "metadata": {},
   "outputs": [
    {
     "data": {
      "text/html": [
       "<div>\n",
       "<style scoped>\n",
       "    .dataframe tbody tr th:only-of-type {\n",
       "        vertical-align: middle;\n",
       "    }\n",
       "\n",
       "    .dataframe tbody tr th {\n",
       "        vertical-align: top;\n",
       "    }\n",
       "\n",
       "    .dataframe thead th {\n",
       "        text-align: right;\n",
       "    }\n",
       "</style>\n",
       "<table border=\"1\" class=\"dataframe\">\n",
       "  <thead>\n",
       "    <tr style=\"text-align: right;\">\n",
       "      <th></th>\n",
       "      <th>0</th>\n",
       "      <th>1</th>\n",
       "      <th>2</th>\n",
       "      <th>3</th>\n",
       "      <th>4</th>\n",
       "      <th>5</th>\n",
       "      <th>6</th>\n",
       "      <th>7</th>\n",
       "      <th>8</th>\n",
       "      <th>9</th>\n",
       "      <th>...</th>\n",
       "      <th>65</th>\n",
       "      <th>66</th>\n",
       "      <th>67</th>\n",
       "      <th>68</th>\n",
       "      <th>69</th>\n",
       "      <th>70</th>\n",
       "      <th>71</th>\n",
       "      <th>72</th>\n",
       "      <th>73</th>\n",
       "      <th>target</th>\n",
       "    </tr>\n",
       "  </thead>\n",
       "  <tbody>\n",
       "    <tr>\n",
       "      <th>74228</th>\n",
       "      <td>41.00</td>\n",
       "      <td>24.39</td>\n",
       "      <td>-0.36</td>\n",
       "      <td>-13.0</td>\n",
       "      <td>17.5</td>\n",
       "      <td>767.8</td>\n",
       "      <td>-0.71</td>\n",
       "      <td>-0.50</td>\n",
       "      <td>-8.5</td>\n",
       "      <td>-41.0</td>\n",
       "      <td>...</td>\n",
       "      <td>743.0</td>\n",
       "      <td>-1.92</td>\n",
       "      <td>-0.90</td>\n",
       "      <td>2.0</td>\n",
       "      <td>-27.0</td>\n",
       "      <td>229.6</td>\n",
       "      <td>0.10</td>\n",
       "      <td>-0.02</td>\n",
       "      <td>0.03</td>\n",
       "      <td>-1</td>\n",
       "    </tr>\n",
       "    <tr>\n",
       "      <th>70386</th>\n",
       "      <td>54.46</td>\n",
       "      <td>25.40</td>\n",
       "      <td>-0.24</td>\n",
       "      <td>-18.0</td>\n",
       "      <td>9.0</td>\n",
       "      <td>535.6</td>\n",
       "      <td>1.42</td>\n",
       "      <td>-0.70</td>\n",
       "      <td>-12.5</td>\n",
       "      <td>-45.0</td>\n",
       "      <td>...</td>\n",
       "      <td>1260.4</td>\n",
       "      <td>-1.24</td>\n",
       "      <td>-1.18</td>\n",
       "      <td>-4.0</td>\n",
       "      <td>-25.0</td>\n",
       "      <td>34.5</td>\n",
       "      <td>1.43</td>\n",
       "      <td>0.39</td>\n",
       "      <td>-0.10</td>\n",
       "      <td>-1</td>\n",
       "    </tr>\n",
       "    <tr>\n",
       "      <th>30794</th>\n",
       "      <td>84.96</td>\n",
       "      <td>23.96</td>\n",
       "      <td>0.05</td>\n",
       "      <td>12.0</td>\n",
       "      <td>-28.5</td>\n",
       "      <td>424.6</td>\n",
       "      <td>1.26</td>\n",
       "      <td>0.03</td>\n",
       "      <td>16.0</td>\n",
       "      <td>-69.0</td>\n",
       "      <td>...</td>\n",
       "      <td>710.5</td>\n",
       "      <td>-0.90</td>\n",
       "      <td>0.52</td>\n",
       "      <td>0.0</td>\n",
       "      <td>-30.0</td>\n",
       "      <td>71.5</td>\n",
       "      <td>1.24</td>\n",
       "      <td>0.34</td>\n",
       "      <td>0.36</td>\n",
       "      <td>-1</td>\n",
       "    </tr>\n",
       "    <tr>\n",
       "      <th>1098</th>\n",
       "      <td>40.00</td>\n",
       "      <td>31.11</td>\n",
       "      <td>-0.69</td>\n",
       "      <td>-15.5</td>\n",
       "      <td>16.5</td>\n",
       "      <td>1184.6</td>\n",
       "      <td>-1.33</td>\n",
       "      <td>-0.96</td>\n",
       "      <td>-3.5</td>\n",
       "      <td>-50.5</td>\n",
       "      <td>...</td>\n",
       "      <td>635.6</td>\n",
       "      <td>0.44</td>\n",
       "      <td>1.37</td>\n",
       "      <td>1.0</td>\n",
       "      <td>-47.0</td>\n",
       "      <td>254.5</td>\n",
       "      <td>-0.21</td>\n",
       "      <td>0.38</td>\n",
       "      <td>0.40</td>\n",
       "      <td>-1</td>\n",
       "    </tr>\n",
       "    <tr>\n",
       "      <th>89493</th>\n",
       "      <td>74.00</td>\n",
       "      <td>28.38</td>\n",
       "      <td>-0.50</td>\n",
       "      <td>-11.0</td>\n",
       "      <td>64.5</td>\n",
       "      <td>3054.1</td>\n",
       "      <td>-2.21</td>\n",
       "      <td>1.22</td>\n",
       "      <td>1.0</td>\n",
       "      <td>-89.5</td>\n",
       "      <td>...</td>\n",
       "      <td>2014.1</td>\n",
       "      <td>1.28</td>\n",
       "      <td>1.09</td>\n",
       "      <td>-5.0</td>\n",
       "      <td>-69.0</td>\n",
       "      <td>50.2</td>\n",
       "      <td>1.82</td>\n",
       "      <td>0.35</td>\n",
       "      <td>0.24</td>\n",
       "      <td>-1</td>\n",
       "    </tr>\n",
       "  </tbody>\n",
       "</table>\n",
       "<p>5 rows × 75 columns</p>\n",
       "</div>"
      ],
      "text/plain": [
       "           0      1     2     3     4       5     6     7     8     9  ...  \\\n",
       "74228  41.00  24.39 -0.36 -13.0  17.5   767.8 -0.71 -0.50  -8.5 -41.0  ...   \n",
       "70386  54.46  25.40 -0.24 -18.0   9.0   535.6  1.42 -0.70 -12.5 -45.0  ...   \n",
       "30794  84.96  23.96  0.05  12.0 -28.5   424.6  1.26  0.03  16.0 -69.0  ...   \n",
       "1098   40.00  31.11 -0.69 -15.5  16.5  1184.6 -1.33 -0.96  -3.5 -50.5  ...   \n",
       "89493  74.00  28.38 -0.50 -11.0  64.5  3054.1 -2.21  1.22   1.0 -89.5  ...   \n",
       "\n",
       "           65    66    67   68    69     70    71    72    73  target  \n",
       "74228   743.0 -1.92 -0.90  2.0 -27.0  229.6  0.10 -0.02  0.03      -1  \n",
       "70386  1260.4 -1.24 -1.18 -4.0 -25.0   34.5  1.43  0.39 -0.10      -1  \n",
       "30794   710.5 -0.90  0.52  0.0 -30.0   71.5  1.24  0.34  0.36      -1  \n",
       "1098    635.6  0.44  1.37  1.0 -47.0  254.5 -0.21  0.38  0.40      -1  \n",
       "89493  2014.1  1.28  1.09 -5.0 -69.0   50.2  1.82  0.35  0.24      -1  \n",
       "\n",
       "[5 rows x 75 columns]"
      ]
     },
     "execution_count": 4,
     "metadata": {},
     "output_type": "execute_result"
    }
   ],
   "source": [
    "data.head()"
   ]
  },
  {
   "cell_type": "code",
   "execution_count": 5,
   "id": "e55b087a",
   "metadata": {},
   "outputs": [
    {
     "data": {
      "text/plain": [
       "target\n",
       "-1    0.9916\n",
       " 1    0.0084\n",
       "Name: proportion, dtype: float64"
      ]
     },
     "execution_count": 5,
     "metadata": {},
     "output_type": "execute_result"
    }
   ],
   "source": [
    "# imbalanced target\n",
    "data.target.value_counts(normalize=True)"
   ]
  },
  {
   "cell_type": "code",
   "execution_count": 6,
   "id": "7de388a5",
   "metadata": {},
   "outputs": [
    {
     "data": {
      "text/plain": [
       "((7000, 74), (3000, 74))"
      ]
     },
     "execution_count": 6,
     "metadata": {},
     "output_type": "execute_result"
    }
   ],
   "source": [
    "# separate into train and test\n",
    "X_train, X_test, y_train, y_test = train_test_split(\n",
    "    data.drop(labels=['target'], axis=1),\n",
    "    data['target'],\n",
    "    test_size=0.3,\n",
    "    random_state=0,\n",
    ")\n",
    "\n",
    "X_train.shape, X_test.shape"
   ]
  },
  {
   "cell_type": "markdown",
   "id": "75532c6c",
   "metadata": {},
   "source": [
    "## Using class_weight"
   ]
  },
  {
   "cell_type": "code",
   "execution_count": 8,
   "id": "189467f2",
   "metadata": {},
   "outputs": [],
   "source": [
    "# logistic regression with class_weight\n",
    "def run_logit(X_train, X_test, y_train, y_test, class_weight):\n",
    "    logit = LogisticRegression(\n",
    "        penalty='l2',\n",
    "        solver='newton-cg',\n",
    "        random_state=0,\n",
    "        max_iter=10,\n",
    "        n_jobs=-1,\n",
    "        class_weight=class_weight,\n",
    "    )\n",
    "\n",
    "    logit.fit(X_train, y_train)\n",
    "\n",
    "    print('Train set')\n",
    "    pred = logit.predict_proba(X_train)[:, 1]\n",
    "    print(f'Logisitic Regression roc-auc: {roc_auc_score(y_train, pred):.4f}')\n",
    "\n",
    "    print('Test set')\n",
    "    pred = logit.predict_proba(X_test)[:, 1]\n",
    "    print(f'Logisitic Regression roc-auc: {roc_auc_score(y_test, pred):.4f}')"
   ]
  },
  {
   "cell_type": "code",
   "execution_count": 9,
   "id": "de618516",
   "metadata": {},
   "outputs": [
    {
     "name": "stdout",
     "output_type": "stream",
     "text": [
      "Train set\n",
      "Logisitic Regression roc-auc: 0.8935\n",
      "Test set\n",
      "Logisitic Regression roc-auc: 0.9326\n"
     ]
    }
   ],
   "source": [
    "run_logit(X_train, X_test, y_train, y_test, class_weight=None)"
   ]
  },
  {
   "cell_type": "code",
   "execution_count": 10,
   "id": "c0b1fc26",
   "metadata": {},
   "outputs": [
    {
     "name": "stdout",
     "output_type": "stream",
     "text": [
      "Train set\n",
      "Logisitic Regression roc-auc: 0.9589\n",
      "Test set\n",
      "Logisitic Regression roc-auc: 0.9626\n"
     ]
    }
   ],
   "source": [
    "# evaluate performance of algorithm built cost estimated as imbalance ratio\n",
    "# alternatively, we can pass a different cost in a dictionary\n",
    "run_logit(X_train, X_test, y_train, y_test, class_weight={-1:1, 1:10})"
   ]
  },
  {
   "cell_type": "code",
   "execution_count": 11,
   "id": "0861aa32",
   "metadata": {},
   "outputs": [
    {
     "name": "stdout",
     "output_type": "stream",
     "text": [
      "Train set\n",
      "Logisitic Regression roc-auc: 0.9815\n",
      "Test set\n",
      "Logisitic Regression roc-auc: 0.9686\n"
     ]
    }
   ],
   "source": [
    "# evaluate performance of algorithm built cost estimated as imbalance ratio\n",
    "# alternatively, we can pass a different cost in a dictionary\n",
    "run_logit(X_train, X_test, y_train, y_test, class_weight='balanced')"
   ]
  },
  {
   "cell_type": "markdown",
   "id": "829113a8",
   "metadata": {},
   "source": [
    "## Using sample_weight"
   ]
  },
  {
   "cell_type": "code",
   "execution_count": 12,
   "id": "16dadace",
   "metadata": {},
   "outputs": [],
   "source": [
    "# logistic regression with class_weight\n",
    "def run_logit(X_train, X_test, y_train, y_test, sample_weight):\n",
    "    logit = LogisticRegression(\n",
    "        penalty='l2',\n",
    "        solver='newton-cg',\n",
    "        random_state=0,\n",
    "        max_iter=10,\n",
    "        n_jobs=-1,\n",
    "    )\n",
    "\n",
    "    logit.fit(X_train, y_train, sample_weight=sample_weight)\n",
    "\n",
    "    print('Train set')\n",
    "    pred = logit.predict_proba(X_train)[:, 1]\n",
    "    print(f'Logisitic Regression roc-auc: {roc_auc_score(y_train, pred):.4f}')\n",
    "\n",
    "    print('Test set')\n",
    "    pred = logit.predict_proba(X_test)[:, 1]\n",
    "    print(f'Logisitic Regression roc-auc: {roc_auc_score(y_test, pred):.4f}')"
   ]
  },
  {
   "cell_type": "code",
   "execution_count": 15,
   "id": "ab4056e6",
   "metadata": {},
   "outputs": [
    {
     "name": "stdout",
     "output_type": "stream",
     "text": [
      "Train set\n",
      "Logisitic Regression roc-auc: 0.8935\n",
      "Test set\n",
      "Logisitic Regression roc-auc: 0.9326\n"
     ]
    }
   ],
   "source": [
    "run_logit(X_train, X_test, y_train, y_test, sample_weight=None)"
   ]
  },
  {
   "cell_type": "code",
   "execution_count": 16,
   "id": "8d4d2e1d",
   "metadata": {},
   "outputs": [
    {
     "name": "stdout",
     "output_type": "stream",
     "text": [
      "Train set\n",
      "Logisitic Regression roc-auc: 0.9834\n",
      "Test set\n",
      "Logisitic Regression roc-auc: 0.9718\n"
     ]
    }
   ],
   "source": [
    "# evaluate performance of algorithm built cost estimated as imbalance ratio\n",
    "# with numpy.where, we introduce a cost of 99 to each observation of the minority class\n",
    "# and 1 otherwise\n",
    "run_logit(X_train, X_test, y_train, y_test, sample_weight=np.where(y_train==1, 99, 1))"
   ]
  },
  {
   "cell_type": "markdown",
   "id": "3ae9e3d7",
   "metadata": {},
   "source": [
    "## Conclusion"
   ]
  },
  {
   "cell_type": "markdown",
   "id": "a8626a00",
   "metadata": {},
   "source": [
    "CSL has improved the performance of the model"
   ]
  },
  {
   "cell_type": "code",
   "execution_count": null,
   "id": "45f06080",
   "metadata": {},
   "outputs": [],
   "source": []
  }
 ],
 "metadata": {
  "kernelspec": {
   "display_name": "Python 3",
   "language": "python",
   "name": "python3"
  },
  "language_info": {
   "codemirror_mode": {
    "name": "ipython",
    "version": 3
   },
   "file_extension": ".py",
   "mimetype": "text/x-python",
   "name": "python",
   "nbconvert_exporter": "python",
   "pygments_lexer": "ipython3",
   "version": "3.9.13"
  }
 },
 "nbformat": 4,
 "nbformat_minor": 5
}
